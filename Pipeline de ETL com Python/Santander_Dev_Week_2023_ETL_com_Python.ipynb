{
 "cells": [
  {
   "cell_type": "markdown",
   "id": "74fcb99e",
   "metadata": {},
   "source": [
    "## Desafio feito utilizando API + biblioteca de frases com random."
   ]
  },
  {
   "cell_type": "code",
   "execution_count": 2,
   "id": "c3d9fd06",
   "metadata": {},
   "outputs": [],
   "source": [
    "sdw2023_api_url = 'https://sdw-2023-prd.up.railway.app'"
   ]
  },
  {
   "cell_type": "code",
   "execution_count": 5,
   "id": "a9be299b",
   "metadata": {},
   "outputs": [],
   "source": [
    "import pandas as pd"
   ]
  },
  {
   "cell_type": "code",
   "execution_count": 7,
   "id": "fc87b80a",
   "metadata": {},
   "outputs": [
    {
     "name": "stdout",
     "output_type": "stream",
     "text": [
      "[1346, 1347, 1348, 1349, 1350]\n"
     ]
    }
   ],
   "source": [
    "df = pd.read_csv('SDW2023.csv')\n",
    "user_ids = df['UserID'].tolist()\n",
    "print(user_ids)"
   ]
  },
  {
   "cell_type": "code",
   "execution_count": 10,
   "id": "229f4016",
   "metadata": {},
   "outputs": [],
   "source": [
    "import requests\n",
    "import json"
   ]
  },
  {
   "cell_type": "code",
   "execution_count": 11,
   "id": "5dc88c40",
   "metadata": {},
   "outputs": [
    {
     "name": "stdout",
     "output_type": "stream",
     "text": [
      "[\n",
      "  {\n",
      "    \"id\": 1346,\n",
      "    \"name\": \"Ana Maria\",\n",
      "    \"account\": {\n",
      "      \"id\": 1409,\n",
      "      \"number\": \"2304-1\",\n",
      "      \"agency\": \"0001\",\n",
      "      \"balance\": 0.0,\n",
      "      \"limit\": 500.0\n",
      "    },\n",
      "    \"card\": {\n",
      "      \"id\": 1287,\n",
      "      \"number\": \"**** **** **** 2304\",\n",
      "      \"limit\": 1000.0\n",
      "    },\n",
      "    \"features\": [\n",
      "      {\n",
      "        \"id\": 453,\n",
      "        \"icon\": \"string\",\n",
      "        \"description\": \"string\"\n",
      "      }\n",
      "    ],\n",
      "    \"news\": [\n",
      "      {\n",
      "        \"id\": 2772,\n",
      "        \"icon\": \"string\",\n",
      "        \"description\": \"string\"\n",
      "      }\n",
      "    ]\n",
      "  },\n",
      "  {\n",
      "    \"id\": 1347,\n",
      "    \"name\": \"Rodrigo Naves\",\n",
      "    \"account\": {\n",
      "      \"id\": 1410,\n",
      "      \"number\": \"2304-2\",\n",
      "      \"agency\": \"0001\",\n",
      "      \"balance\": 0.0,\n",
      "      \"limit\": 5500.0\n",
      "    },\n",
      "    \"card\": {\n",
      "      \"id\": 1288,\n",
      "      \"number\": \"**** **** **** 2209\",\n",
      "      \"limit\": 10000.0\n",
      "    },\n",
      "    \"features\": [\n",
      "      {\n",
      "        \"id\": 454,\n",
      "        \"icon\": \"string\",\n",
      "        \"description\": \"string\"\n",
      "      }\n",
      "    ],\n",
      "    \"news\": [\n",
      "      {\n",
      "        \"id\": 2773,\n",
      "        \"icon\": \"string\",\n",
      "        \"description\": \"string\"\n",
      "      }\n",
      "    ]\n",
      "  },\n",
      "  {\n",
      "    \"id\": 1348,\n",
      "    \"name\": \"Jessica Assis\",\n",
      "    \"account\": {\n",
      "      \"id\": 1411,\n",
      "      \"number\": \"2304-3\",\n",
      "      \"agency\": \"0001\",\n",
      "      \"balance\": 0.0,\n",
      "      \"limit\": 5900.0\n",
      "    },\n",
      "    \"card\": {\n",
      "      \"id\": 1289,\n",
      "      \"number\": \"**** **** **** 2901\",\n",
      "      \"limit\": 10000.0\n",
      "    },\n",
      "    \"features\": [\n",
      "      {\n",
      "        \"id\": 455,\n",
      "        \"icon\": \"string\",\n",
      "        \"description\": \"string\"\n",
      "      }\n",
      "    ],\n",
      "    \"news\": [\n",
      "      {\n",
      "        \"id\": 2774,\n",
      "        \"icon\": \"string\",\n",
      "        \"description\": \"string\"\n",
      "      }\n",
      "    ]\n",
      "  },\n",
      "  {\n",
      "    \"id\": 1349,\n",
      "    \"name\": \"Wade Wilson\",\n",
      "    \"account\": {\n",
      "      \"id\": 1412,\n",
      "      \"number\": \"2304-4\",\n",
      "      \"agency\": \"0001\",\n",
      "      \"balance\": 0.0,\n",
      "      \"limit\": 900.0\n",
      "    },\n",
      "    \"card\": {\n",
      "      \"id\": 1290,\n",
      "      \"number\": \"**** **** **** 2908\",\n",
      "      \"limit\": 1000.0\n",
      "    },\n",
      "    \"features\": [\n",
      "      {\n",
      "        \"id\": 456,\n",
      "        \"icon\": \"string\",\n",
      "        \"description\": \"string\"\n",
      "      }\n",
      "    ],\n",
      "    \"news\": [\n",
      "      {\n",
      "        \"id\": 2775,\n",
      "        \"icon\": \"string\",\n",
      "        \"description\": \"string\"\n",
      "      }\n",
      "    ]\n",
      "  },\n",
      "  {\n",
      "    \"id\": 1350,\n",
      "    \"name\": \"Francisco Cisco\",\n",
      "    \"account\": {\n",
      "      \"id\": 1413,\n",
      "      \"number\": \"2304-5\",\n",
      "      \"agency\": \"0001\",\n",
      "      \"balance\": 0.0,\n",
      "      \"limit\": 900.0\n",
      "    },\n",
      "    \"card\": {\n",
      "      \"id\": 1291,\n",
      "      \"number\": \"**** **** **** 2507\",\n",
      "      \"limit\": 1000.0\n",
      "    },\n",
      "    \"features\": [\n",
      "      {\n",
      "        \"id\": 457,\n",
      "        \"icon\": \"string\",\n",
      "        \"description\": \"string\"\n",
      "      }\n",
      "    ],\n",
      "    \"news\": [\n",
      "      {\n",
      "        \"id\": 2776,\n",
      "        \"icon\": \"string\",\n",
      "        \"description\": \"string\"\n",
      "      }\n",
      "    ]\n",
      "  }\n",
      "]\n"
     ]
    }
   ],
   "source": [
    "def get_user(id):\n",
    "  response = requests.get(f'{sdw2023_api_url}/users/{id}')\n",
    "  return response.json() if response.status_code == 200 else None\n",
    "\n",
    "users = [user for id in user_ids if (user := get_user(id)) is not None]\n",
    "print(json.dumps(users, indent=2))"
   ]
  },
  {
   "cell_type": "code",
   "execution_count": 12,
   "id": "486ec442",
   "metadata": {},
   "outputs": [],
   "source": [
    "import random"
   ]
  },
  {
   "cell_type": "code",
   "execution_count": 101,
   "id": "34407c6d",
   "metadata": {},
   "outputs": [
    {
     "name": "stdout",
     "output_type": "stream",
     "text": [
      "Olá Ana Maria, o dinheiro e uma ferramenta; saiba usa-lo com sabedoria.\n",
      "Olá Rodrigo Naves, o investimento inteligente e a base da independencia financeira.\n",
      "Olá Jessica Assis, o investimento inteligente e a base da independencia financeira.\n",
      "Olá Wade Wilson, dinheiro bem investido e o alicerce de uma vida estavel.\n",
      "Olá Francisco Cisco, o futuro depende das escolhas financeiras que fazemos hoje.\n"
     ]
    }
   ],
   "source": [
    "with open('frases.txt', 'r') as arquivo:\n",
    "  mensagens = arquivo.readlines()\n",
    "\n",
    "\n",
    "def generate_ai_news(user):\n",
    "  mensagem = random.choice(mensagens).strip()\n",
    "  text = (f\"Olá {user['name']}, {mensagem}\")\n",
    "  return text\n",
    "\n",
    "\n",
    "for user in users:\n",
    "  news = generate_ai_news(user)\n",
    "  print(news)\n",
    "  user['news'].append({\"description\": news})"
   ]
  },
  {
   "cell_type": "code",
   "execution_count": 16,
   "id": "af66b92a",
   "metadata": {},
   "outputs": [
    {
     "name": "stdout",
     "output_type": "stream",
     "text": [
      "User Ana Maria updated? True!\n",
      "User Rodrigo Naves updated? True!\n",
      "User Jessica Assis updated? True!\n",
      "User Wade Wilson updated? True!\n",
      "User Francisco Cisco updated? True!\n"
     ]
    }
   ],
   "source": [
    "def update_user(user):\n",
    "  response = requests.put(f\"{sdw2023_api_url}/users/{user['id']}\", json=user)\n",
    "  return True if response.status_code == 200 else False\n",
    "\n",
    "for user in users:\n",
    "  success = update_user(user)\n",
    "  print(f\"User {user['name']} updated? {success}!\")"
   ]
  },
  {
   "cell_type": "markdown",
   "id": "4e1fa90e",
   "metadata": {},
   "source": [
    "---"
   ]
  },
  {
   "cell_type": "markdown",
   "id": "bc77f6b4",
   "metadata": {},
   "source": [
    "## Desafio feito utilizando apenas arquivos .csv + biblioteca de frases com random."
   ]
  },
  {
   "cell_type": "markdown",
   "id": "83da8367",
   "metadata": {},
   "source": [
    "- Criação dos dados seguindo o modelo presente no API. "
   ]
  },
  {
   "cell_type": "code",
   "execution_count": 17,
   "id": "5e8f895e",
   "metadata": {},
   "outputs": [],
   "source": [
    "import pandas as pd\n",
    "import random"
   ]
  },
  {
   "cell_type": "code",
   "execution_count": 94,
   "id": "9b29396f",
   "metadata": {},
   "outputs": [
    {
     "name": "stdout",
     "output_type": "stream",
     "text": [
      "[1, 2, 3, 4, 5, 6, 7, 8, 9, 10]\n"
     ]
    }
   ],
   "source": [
    "ID = list(range(1, 11))\n",
    "print(ID)"
   ]
  },
  {
   "cell_type": "code",
   "execution_count": 73,
   "id": "ea624515",
   "metadata": {},
   "outputs": [
    {
     "name": "stdout",
     "output_type": "stream",
     "text": [
      "['Lucas Silva', 'Ana Costa', 'Pedro Santos', 'Laura Pereira', 'Bruno Oliveira', 'Marina Rodrigues', 'Rafael Fernandes', 'Carolina Sousa', 'Thiago Almeida', 'Gabriela Lima']\n"
     ]
    }
   ],
   "source": [
    "NomeCompleto = df = pd.read_csv('nameSDW2023.csv')\n",
    "NomeCompleto = df['UserName'].tolist()\n",
    "print(NomeCompleto)"
   ]
  },
  {
   "cell_type": "code",
   "execution_count": 198,
   "id": "f3e78ae4",
   "metadata": {},
   "outputs": [
    {
     "name": "stdout",
     "output_type": "stream",
     "text": [
      "[1000, 1001, 1002, 1003, 1004, 1005, 1006, 1007, 1008, 1009]\n"
     ]
    }
   ],
   "source": [
    "valor_inicial = 1000\n",
    "ContaCorrente = [valor_inicial + i for i in range(10)]\n",
    "print(ContaCorrente)"
   ]
  },
  {
   "cell_type": "code",
   "execution_count": 75,
   "id": "589543e3",
   "metadata": {},
   "outputs": [
    {
     "name": "stdout",
     "output_type": "stream",
     "text": [
      "123\n"
     ]
    }
   ],
   "source": [
    "Agencia = 123\n",
    "print(Agencia)"
   ]
  },
  {
   "cell_type": "code",
   "execution_count": 77,
   "id": "f694d48d",
   "metadata": {},
   "outputs": [
    {
     "name": "stdout",
     "output_type": "stream",
     "text": [
      "[291.07, 6087.61, 336.31, 9499.08, 9.18, 8068.59, 8933.87, 7751.2, 7128.44, 3842.06]\n"
     ]
    }
   ],
   "source": [
    "Saldo = [round(10000*random.random(),2) for saldo in NomeCompleto]\n",
    "print(Saldo)"
   ]
  },
  {
   "cell_type": "code",
   "execution_count": 250,
   "id": "8be258e3",
   "metadata": {},
   "outputs": [
    {
     "name": "stdout",
     "output_type": "stream",
     "text": [
      "**** **** **** 9522\n",
      "**** **** **** 1932\n",
      "**** **** **** 5469\n",
      "**** **** **** 7347\n",
      "**** **** **** 1063\n",
      "**** **** **** 9159\n",
      "**** **** **** 1799\n",
      "**** **** **** 3009\n",
      "**** **** **** 6710\n",
      "**** **** **** 4841\n"
     ]
    }
   ],
   "source": [
    "def gerar_numero_aleatorio():\n",
    "    return str(random.randint(1000, 9999))\n",
    "\n",
    "numeros_aleatorios = [gerar_numero_aleatorio() for _ in range(10)]\n",
    "\n",
    "NumeroCardCredito = [\"**** **** **** \" + numero for numero in numeros_aleatorios]\n",
    "\n",
    "for numero in NumeroCardCredito:\n",
    "    print(numero)"
   ]
  },
  {
   "cell_type": "code",
   "execution_count": 252,
   "id": "4d19fc95",
   "metadata": {},
   "outputs": [
    {
     "name": "stdout",
     "output_type": "stream",
     "text": [
      "[85700, 45400, 21200, 63100, 12600, 95600, 60800, 93000, 39900, 44700]\n"
     ]
    }
   ],
   "source": [
    "LimiteDisponivel = [random.randint(100, 1000) * 100 for _ in range(10)]\n",
    "print(LimiteDisponivel)"
   ]
  },
  {
   "cell_type": "code",
   "execution_count": 253,
   "id": "76a72626",
   "metadata": {},
   "outputs": [
    {
     "name": "stdout",
     "output_type": "stream",
     "text": [
      "   ID      NomeCompleto  ContaCorrente  Agencia    Saldo    NumeroCardCredito  \\\n",
      "0   1       Lucas Silva           1000      123   291.07  **** **** **** 9522   \n",
      "1   2         Ana Costa           1001      123  6087.61  **** **** **** 1932   \n",
      "2   3      Pedro Santos           1002      123   336.31  **** **** **** 5469   \n",
      "3   4     Laura Pereira           1003      123  9499.08  **** **** **** 7347   \n",
      "4   5    Bruno Oliveira           1004      123     9.18  **** **** **** 1063   \n",
      "5   6  Marina Rodrigues           1005      123  8068.59  **** **** **** 9159   \n",
      "6   7  Rafael Fernandes           1006      123  8933.87  **** **** **** 1799   \n",
      "7   8    Carolina Sousa           1007      123  7751.20  **** **** **** 3009   \n",
      "8   9    Thiago Almeida           1008      123  7128.44  **** **** **** 6710   \n",
      "9  10     Gabriela Lima           1009      123  3842.06  **** **** **** 4841   \n",
      "\n",
      "   LimiteDisponivel  \n",
      "0             85700  \n",
      "1             45400  \n",
      "2             21200  \n",
      "3             63100  \n",
      "4             12600  \n",
      "5             95600  \n",
      "6             60800  \n",
      "7             93000  \n",
      "8             39900  \n",
      "9             44700  \n"
     ]
    }
   ],
   "source": [
    "df_clientes = pd.DataFrame({'ID':ID, 'NomeCompleto':NomeCompleto, 'ContaCorrente':ContaCorrente, 'Agencia':Agencia, \n",
    "                            'Saldo':Saldo, 'NumeroCardCredito':NumeroCardCredito, 'LimiteDisponivel':LimiteDisponivel })\n",
    "print(df_clientes)"
   ]
  },
  {
   "cell_type": "code",
   "execution_count": 254,
   "id": "8c912593",
   "metadata": {},
   "outputs": [
    {
     "name": "stdout",
     "output_type": "stream",
     "text": [
      "Dados armazenados no arquivo csv.\n",
      "Os dados foram armazenados com sucesso.\n"
     ]
    }
   ],
   "source": [
    "try:\n",
    "    df_clientes.to_csv('df_clientes.csv', index=False)\n",
    "    print('Dados armazenados no arquivo csv.')\n",
    "except:\n",
    "    print('Os dados não foram armazenados.')\n",
    "else:\n",
    "    print('Os dados foram armazenados com sucesso.')\n"
   ]
  },
  {
   "cell_type": "markdown",
   "id": "6ec6c2b6",
   "metadata": {},
   "source": [
    "- **E**xtração dos dados:"
   ]
  },
  {
   "cell_type": "code",
   "execution_count": 255,
   "id": "8924a58c",
   "metadata": {},
   "outputs": [
    {
     "data": {
      "text/html": [
       "<div>\n",
       "<style scoped>\n",
       "    .dataframe tbody tr th:only-of-type {\n",
       "        vertical-align: middle;\n",
       "    }\n",
       "\n",
       "    .dataframe tbody tr th {\n",
       "        vertical-align: top;\n",
       "    }\n",
       "\n",
       "    .dataframe thead th {\n",
       "        text-align: right;\n",
       "    }\n",
       "</style>\n",
       "<table border=\"1\" class=\"dataframe\">\n",
       "  <thead>\n",
       "    <tr style=\"text-align: right;\">\n",
       "      <th></th>\n",
       "      <th>ID</th>\n",
       "      <th>NomeCompleto</th>\n",
       "      <th>ContaCorrente</th>\n",
       "      <th>Agencia</th>\n",
       "      <th>Saldo</th>\n",
       "      <th>NumeroCardCredito</th>\n",
       "      <th>LimiteDisponivel</th>\n",
       "    </tr>\n",
       "  </thead>\n",
       "  <tbody>\n",
       "    <tr>\n",
       "      <th>0</th>\n",
       "      <td>1</td>\n",
       "      <td>Lucas Silva</td>\n",
       "      <td>1000</td>\n",
       "      <td>123</td>\n",
       "      <td>291.07</td>\n",
       "      <td>**** **** **** 9522</td>\n",
       "      <td>85700</td>\n",
       "    </tr>\n",
       "    <tr>\n",
       "      <th>1</th>\n",
       "      <td>2</td>\n",
       "      <td>Ana Costa</td>\n",
       "      <td>1001</td>\n",
       "      <td>123</td>\n",
       "      <td>6087.61</td>\n",
       "      <td>**** **** **** 1932</td>\n",
       "      <td>45400</td>\n",
       "    </tr>\n",
       "    <tr>\n",
       "      <th>2</th>\n",
       "      <td>3</td>\n",
       "      <td>Pedro Santos</td>\n",
       "      <td>1002</td>\n",
       "      <td>123</td>\n",
       "      <td>336.31</td>\n",
       "      <td>**** **** **** 5469</td>\n",
       "      <td>21200</td>\n",
       "    </tr>\n",
       "    <tr>\n",
       "      <th>3</th>\n",
       "      <td>4</td>\n",
       "      <td>Laura Pereira</td>\n",
       "      <td>1003</td>\n",
       "      <td>123</td>\n",
       "      <td>9499.08</td>\n",
       "      <td>**** **** **** 7347</td>\n",
       "      <td>63100</td>\n",
       "    </tr>\n",
       "    <tr>\n",
       "      <th>4</th>\n",
       "      <td>5</td>\n",
       "      <td>Bruno Oliveira</td>\n",
       "      <td>1004</td>\n",
       "      <td>123</td>\n",
       "      <td>9.18</td>\n",
       "      <td>**** **** **** 1063</td>\n",
       "      <td>12600</td>\n",
       "    </tr>\n",
       "    <tr>\n",
       "      <th>5</th>\n",
       "      <td>6</td>\n",
       "      <td>Marina Rodrigues</td>\n",
       "      <td>1005</td>\n",
       "      <td>123</td>\n",
       "      <td>8068.59</td>\n",
       "      <td>**** **** **** 9159</td>\n",
       "      <td>95600</td>\n",
       "    </tr>\n",
       "    <tr>\n",
       "      <th>6</th>\n",
       "      <td>7</td>\n",
       "      <td>Rafael Fernandes</td>\n",
       "      <td>1006</td>\n",
       "      <td>123</td>\n",
       "      <td>8933.87</td>\n",
       "      <td>**** **** **** 1799</td>\n",
       "      <td>60800</td>\n",
       "    </tr>\n",
       "    <tr>\n",
       "      <th>7</th>\n",
       "      <td>8</td>\n",
       "      <td>Carolina Sousa</td>\n",
       "      <td>1007</td>\n",
       "      <td>123</td>\n",
       "      <td>7751.20</td>\n",
       "      <td>**** **** **** 3009</td>\n",
       "      <td>93000</td>\n",
       "    </tr>\n",
       "    <tr>\n",
       "      <th>8</th>\n",
       "      <td>9</td>\n",
       "      <td>Thiago Almeida</td>\n",
       "      <td>1008</td>\n",
       "      <td>123</td>\n",
       "      <td>7128.44</td>\n",
       "      <td>**** **** **** 6710</td>\n",
       "      <td>39900</td>\n",
       "    </tr>\n",
       "    <tr>\n",
       "      <th>9</th>\n",
       "      <td>10</td>\n",
       "      <td>Gabriela Lima</td>\n",
       "      <td>1009</td>\n",
       "      <td>123</td>\n",
       "      <td>3842.06</td>\n",
       "      <td>**** **** **** 4841</td>\n",
       "      <td>44700</td>\n",
       "    </tr>\n",
       "  </tbody>\n",
       "</table>\n",
       "</div>"
      ],
      "text/plain": [
       "   ID      NomeCompleto  ContaCorrente  Agencia    Saldo    NumeroCardCredito  \\\n",
       "0   1       Lucas Silva           1000      123   291.07  **** **** **** 9522   \n",
       "1   2         Ana Costa           1001      123  6087.61  **** **** **** 1932   \n",
       "2   3      Pedro Santos           1002      123   336.31  **** **** **** 5469   \n",
       "3   4     Laura Pereira           1003      123  9499.08  **** **** **** 7347   \n",
       "4   5    Bruno Oliveira           1004      123     9.18  **** **** **** 1063   \n",
       "5   6  Marina Rodrigues           1005      123  8068.59  **** **** **** 9159   \n",
       "6   7  Rafael Fernandes           1006      123  8933.87  **** **** **** 1799   \n",
       "7   8    Carolina Sousa           1007      123  7751.20  **** **** **** 3009   \n",
       "8   9    Thiago Almeida           1008      123  7128.44  **** **** **** 6710   \n",
       "9  10     Gabriela Lima           1009      123  3842.06  **** **** **** 4841   \n",
       "\n",
       "   LimiteDisponivel  \n",
       "0             85700  \n",
       "1             45400  \n",
       "2             21200  \n",
       "3             63100  \n",
       "4             12600  \n",
       "5             95600  \n",
       "6             60800  \n",
       "7             93000  \n",
       "8             39900  \n",
       "9             44700  "
      ]
     },
     "metadata": {},
     "output_type": "display_data"
    }
   ],
   "source": [
    "df_clientes = pd.read_csv('df_clientes.csv')\n",
    "display(df_clientes)"
   ]
  },
  {
   "cell_type": "markdown",
   "id": "efccdfe4",
   "metadata": {},
   "source": [
    "- **T**ransformação dos dados:"
   ]
  },
  {
   "cell_type": "code",
   "execution_count": 256,
   "id": "078f15bb",
   "metadata": {},
   "outputs": [
    {
     "name": "stdout",
     "output_type": "stream",
     "text": [
      "['Olá Lucas Silva, aprenda a multiplicar seu dinheiro atraves de investimentos solidos.', 'Olá Ana Costa, crie um plano financeiro solido para atingir seus objetivos.', 'Olá Pedro Santos, o investimento inteligente e a base da independencia financeira.', 'Olá Laura Pereira, investir e plantar sementes financeiras para colher um futuro seguro.', 'Olá Bruno Oliveira, o dinheiro e uma ferramenta; saiba usa-lo com sabedoria.', 'Olá Marina Rodrigues, nao subestime o poder dos juros compostos a longo prazo.', 'Olá Rafael Fernandes, mantenha um equilibrio entre gastar, economizar e investir.', 'Olá Carolina Sousa, invista sabiamente e faca seu dinheiro trabalhar por voce.', 'Olá Thiago Almeida, nao deixe seu dinheiro parado; faca-o trabalhar para voce.', 'Olá Gabriela Lima, o investimento inteligente e a base da independencia financeira.']\n"
     ]
    }
   ],
   "source": [
    "import csv\n",
    "\n",
    "nomes = []\n",
    "with open('df_clientes.csv', 'r') as arquivo_csv:\n",
    "    leitor_csv = csv.DictReader(arquivo_csv)\n",
    "    for linha in leitor_csv:\n",
    "        nomes.append(linha['NomeCompleto'])\n",
    "        \n",
    "frases = []\n",
    "with open('frases.txt', 'r', encoding='utf-8') as arquivo_texto:\n",
    "    frases = arquivo_texto.readlines()\n",
    "    \n",
    "mensagens = []\n",
    "if len(nomes) > 0 and len(frases) > 0:\n",
    "    for nome in nomes:\n",
    "        frase = random.choice(frases).strip()\n",
    "        mensagem = f\"Olá {nome}, {frase}\"\n",
    "        mensagens.append(mensagem)\n",
    "\n",
    "print(mensagens)"
   ]
  },
  {
   "cell_type": "code",
   "execution_count": 258,
   "id": "39acd130",
   "metadata": {},
   "outputs": [
    {
     "name": "stdout",
     "output_type": "stream",
     "text": [
      "                                           MENSAGENS\n",
      "0  Olá Lucas Silva, aprenda a multiplicar seu din...\n",
      "1  Olá Ana Costa, crie um plano financeiro solido...\n",
      "2  Olá Pedro Santos, o investimento inteligente e...\n",
      "3  Olá Laura Pereira, investir e plantar sementes...\n",
      "4  Olá Bruno Oliveira, o dinheiro e uma ferrament...\n",
      "5  Olá Marina Rodrigues, nao subestime o poder do...\n",
      "6  Olá Rafael Fernandes, mantenha um equilibrio e...\n",
      "7  Olá Carolina Sousa, invista sabiamente e faca ...\n",
      "8  Olá Thiago Almeida, nao deixe seu dinheiro par...\n",
      "9  Olá Gabriela Lima, o investimento inteligente ...\n"
     ]
    }
   ],
   "source": [
    "df_mensagens = pd.DataFrame({'mensagens': mensagens})\n",
    "df_mensagens.rename(columns={'mensagens': 'MENSAGENS'}, inplace=True)\n",
    "print(df_mensagens)"
   ]
  },
  {
   "cell_type": "code",
   "execution_count": 259,
   "id": "d2be6ebf",
   "metadata": {},
   "outputs": [
    {
     "name": "stdout",
     "output_type": "stream",
     "text": [
      "   ID      NomeCompleto  ContaCorrente  Agencia    Saldo    NumeroCardCredito  \\\n",
      "0   1       Lucas Silva           1000      123   291.07  **** **** **** 9522   \n",
      "1   2         Ana Costa           1001      123  6087.61  **** **** **** 1932   \n",
      "2   3      Pedro Santos           1002      123   336.31  **** **** **** 5469   \n",
      "3   4     Laura Pereira           1003      123  9499.08  **** **** **** 7347   \n",
      "4   5    Bruno Oliveira           1004      123     9.18  **** **** **** 1063   \n",
      "5   6  Marina Rodrigues           1005      123  8068.59  **** **** **** 9159   \n",
      "6   7  Rafael Fernandes           1006      123  8933.87  **** **** **** 1799   \n",
      "7   8    Carolina Sousa           1007      123  7751.20  **** **** **** 3009   \n",
      "8   9    Thiago Almeida           1008      123  7128.44  **** **** **** 6710   \n",
      "9  10     Gabriela Lima           1009      123  3842.06  **** **** **** 4841   \n",
      "\n",
      "   LimiteDisponivel                                          MENSAGENS  \n",
      "0             85700  Olá Lucas Silva, aprenda a multiplicar seu din...  \n",
      "1             45400  Olá Ana Costa, crie um plano financeiro solido...  \n",
      "2             21200  Olá Pedro Santos, o investimento inteligente e...  \n",
      "3             63100  Olá Laura Pereira, investir e plantar sementes...  \n",
      "4             12600  Olá Bruno Oliveira, o dinheiro e uma ferrament...  \n",
      "5             95600  Olá Marina Rodrigues, nao subestime o poder do...  \n",
      "6             60800  Olá Rafael Fernandes, mantenha um equilibrio e...  \n",
      "7             93000  Olá Carolina Sousa, invista sabiamente e faca ...  \n",
      "8             39900  Olá Thiago Almeida, nao deixe seu dinheiro par...  \n",
      "9             44700  Olá Gabriela Lima, o investimento inteligente ...  \n"
     ]
    }
   ],
   "source": [
    "df_final = pd.concat([df_clientes, df_mensagens], axis=1)\n",
    "print(df_final)"
   ]
  },
  {
   "cell_type": "markdown",
   "id": "763c4503",
   "metadata": {},
   "source": [
    "- **L**oad dos dados:"
   ]
  },
  {
   "cell_type": "code",
   "execution_count": 260,
   "id": "28329350",
   "metadata": {},
   "outputs": [
    {
     "name": "stdout",
     "output_type": "stream",
     "text": [
      "Dados armazenados no arquivo csv.\n",
      "Os dados foram armazenados com sucesso.\n"
     ]
    }
   ],
   "source": [
    "try:\n",
    "    df_final.to_csv('df_final.csv', index=False)\n",
    "    print('Dados armazenados no arquivo csv.')\n",
    "except:\n",
    "    print('Os dados não foram armazenados.')\n",
    "else:\n",
    "    print('Os dados foram armazenados com sucesso.')\n"
   ]
  },
  {
   "cell_type": "code",
   "execution_count": 261,
   "id": "ae7d2352",
   "metadata": {},
   "outputs": [
    {
     "data": {
      "text/html": [
       "<div>\n",
       "<style scoped>\n",
       "    .dataframe tbody tr th:only-of-type {\n",
       "        vertical-align: middle;\n",
       "    }\n",
       "\n",
       "    .dataframe tbody tr th {\n",
       "        vertical-align: top;\n",
       "    }\n",
       "\n",
       "    .dataframe thead th {\n",
       "        text-align: right;\n",
       "    }\n",
       "</style>\n",
       "<table border=\"1\" class=\"dataframe\">\n",
       "  <thead>\n",
       "    <tr style=\"text-align: right;\">\n",
       "      <th></th>\n",
       "      <th>ID</th>\n",
       "      <th>NomeCompleto</th>\n",
       "      <th>ContaCorrente</th>\n",
       "      <th>Agencia</th>\n",
       "      <th>Saldo</th>\n",
       "      <th>NumeroCardCredito</th>\n",
       "      <th>LimiteDisponivel</th>\n",
       "      <th>MENSAGENS</th>\n",
       "    </tr>\n",
       "  </thead>\n",
       "  <tbody>\n",
       "    <tr>\n",
       "      <th>0</th>\n",
       "      <td>1</td>\n",
       "      <td>Lucas Silva</td>\n",
       "      <td>1000</td>\n",
       "      <td>123</td>\n",
       "      <td>291.07</td>\n",
       "      <td>**** **** **** 9522</td>\n",
       "      <td>85700</td>\n",
       "      <td>Olá Lucas Silva, aprenda a multiplicar seu din...</td>\n",
       "    </tr>\n",
       "    <tr>\n",
       "      <th>1</th>\n",
       "      <td>2</td>\n",
       "      <td>Ana Costa</td>\n",
       "      <td>1001</td>\n",
       "      <td>123</td>\n",
       "      <td>6087.61</td>\n",
       "      <td>**** **** **** 1932</td>\n",
       "      <td>45400</td>\n",
       "      <td>Olá Ana Costa, crie um plano financeiro solido...</td>\n",
       "    </tr>\n",
       "    <tr>\n",
       "      <th>2</th>\n",
       "      <td>3</td>\n",
       "      <td>Pedro Santos</td>\n",
       "      <td>1002</td>\n",
       "      <td>123</td>\n",
       "      <td>336.31</td>\n",
       "      <td>**** **** **** 5469</td>\n",
       "      <td>21200</td>\n",
       "      <td>Olá Pedro Santos, o investimento inteligente e...</td>\n",
       "    </tr>\n",
       "    <tr>\n",
       "      <th>3</th>\n",
       "      <td>4</td>\n",
       "      <td>Laura Pereira</td>\n",
       "      <td>1003</td>\n",
       "      <td>123</td>\n",
       "      <td>9499.08</td>\n",
       "      <td>**** **** **** 7347</td>\n",
       "      <td>63100</td>\n",
       "      <td>Olá Laura Pereira, investir e plantar sementes...</td>\n",
       "    </tr>\n",
       "    <tr>\n",
       "      <th>4</th>\n",
       "      <td>5</td>\n",
       "      <td>Bruno Oliveira</td>\n",
       "      <td>1004</td>\n",
       "      <td>123</td>\n",
       "      <td>9.18</td>\n",
       "      <td>**** **** **** 1063</td>\n",
       "      <td>12600</td>\n",
       "      <td>Olá Bruno Oliveira, o dinheiro e uma ferrament...</td>\n",
       "    </tr>\n",
       "    <tr>\n",
       "      <th>5</th>\n",
       "      <td>6</td>\n",
       "      <td>Marina Rodrigues</td>\n",
       "      <td>1005</td>\n",
       "      <td>123</td>\n",
       "      <td>8068.59</td>\n",
       "      <td>**** **** **** 9159</td>\n",
       "      <td>95600</td>\n",
       "      <td>Olá Marina Rodrigues, nao subestime o poder do...</td>\n",
       "    </tr>\n",
       "    <tr>\n",
       "      <th>6</th>\n",
       "      <td>7</td>\n",
       "      <td>Rafael Fernandes</td>\n",
       "      <td>1006</td>\n",
       "      <td>123</td>\n",
       "      <td>8933.87</td>\n",
       "      <td>**** **** **** 1799</td>\n",
       "      <td>60800</td>\n",
       "      <td>Olá Rafael Fernandes, mantenha um equilibrio e...</td>\n",
       "    </tr>\n",
       "    <tr>\n",
       "      <th>7</th>\n",
       "      <td>8</td>\n",
       "      <td>Carolina Sousa</td>\n",
       "      <td>1007</td>\n",
       "      <td>123</td>\n",
       "      <td>7751.20</td>\n",
       "      <td>**** **** **** 3009</td>\n",
       "      <td>93000</td>\n",
       "      <td>Olá Carolina Sousa, invista sabiamente e faca ...</td>\n",
       "    </tr>\n",
       "    <tr>\n",
       "      <th>8</th>\n",
       "      <td>9</td>\n",
       "      <td>Thiago Almeida</td>\n",
       "      <td>1008</td>\n",
       "      <td>123</td>\n",
       "      <td>7128.44</td>\n",
       "      <td>**** **** **** 6710</td>\n",
       "      <td>39900</td>\n",
       "      <td>Olá Thiago Almeida, nao deixe seu dinheiro par...</td>\n",
       "    </tr>\n",
       "    <tr>\n",
       "      <th>9</th>\n",
       "      <td>10</td>\n",
       "      <td>Gabriela Lima</td>\n",
       "      <td>1009</td>\n",
       "      <td>123</td>\n",
       "      <td>3842.06</td>\n",
       "      <td>**** **** **** 4841</td>\n",
       "      <td>44700</td>\n",
       "      <td>Olá Gabriela Lima, o investimento inteligente ...</td>\n",
       "    </tr>\n",
       "  </tbody>\n",
       "</table>\n",
       "</div>"
      ],
      "text/plain": [
       "   ID      NomeCompleto  ContaCorrente  Agencia    Saldo    NumeroCardCredito  \\\n",
       "0   1       Lucas Silva           1000      123   291.07  **** **** **** 9522   \n",
       "1   2         Ana Costa           1001      123  6087.61  **** **** **** 1932   \n",
       "2   3      Pedro Santos           1002      123   336.31  **** **** **** 5469   \n",
       "3   4     Laura Pereira           1003      123  9499.08  **** **** **** 7347   \n",
       "4   5    Bruno Oliveira           1004      123     9.18  **** **** **** 1063   \n",
       "5   6  Marina Rodrigues           1005      123  8068.59  **** **** **** 9159   \n",
       "6   7  Rafael Fernandes           1006      123  8933.87  **** **** **** 1799   \n",
       "7   8    Carolina Sousa           1007      123  7751.20  **** **** **** 3009   \n",
       "8   9    Thiago Almeida           1008      123  7128.44  **** **** **** 6710   \n",
       "9  10     Gabriela Lima           1009      123  3842.06  **** **** **** 4841   \n",
       "\n",
       "   LimiteDisponivel                                          MENSAGENS  \n",
       "0             85700  Olá Lucas Silva, aprenda a multiplicar seu din...  \n",
       "1             45400  Olá Ana Costa, crie um plano financeiro solido...  \n",
       "2             21200  Olá Pedro Santos, o investimento inteligente e...  \n",
       "3             63100  Olá Laura Pereira, investir e plantar sementes...  \n",
       "4             12600  Olá Bruno Oliveira, o dinheiro e uma ferrament...  \n",
       "5             95600  Olá Marina Rodrigues, nao subestime o poder do...  \n",
       "6             60800  Olá Rafael Fernandes, mantenha um equilibrio e...  \n",
       "7             93000  Olá Carolina Sousa, invista sabiamente e faca ...  \n",
       "8             39900  Olá Thiago Almeida, nao deixe seu dinheiro par...  \n",
       "9             44700  Olá Gabriela Lima, o investimento inteligente ...  "
      ]
     },
     "metadata": {},
     "output_type": "display_data"
    }
   ],
   "source": [
    "df_final = pd.read_csv('df_final.csv')\n",
    "display(df_final)"
   ]
  },
  {
   "cell_type": "code",
   "execution_count": null,
   "id": "18c5b71e",
   "metadata": {},
   "outputs": [],
   "source": []
  }
 ],
 "metadata": {
  "kernelspec": {
   "display_name": "Python 3 (ipykernel)",
   "language": "python",
   "name": "python3"
  },
  "language_info": {
   "codemirror_mode": {
    "name": "ipython",
    "version": 3
   },
   "file_extension": ".py",
   "mimetype": "text/x-python",
   "name": "python",
   "nbconvert_exporter": "python",
   "pygments_lexer": "ipython3",
   "version": "3.11.4"
  }
 },
 "nbformat": 4,
 "nbformat_minor": 5
}
